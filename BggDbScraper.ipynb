{
 "cells": [
  {
   "cell_type": "code",
   "execution_count": 5,
   "id": "meaning-march",
   "metadata": {},
   "outputs": [
    {
     "data": {
      "text/plain": [
       "'from boardgamegeek import BoardGameGeek\\nfrom boardgamegeek import api\\nfrom boardgamegeek.exceptions import BoardGameGeekAPIError\\nfrom boardgamegeek.exceptions import BoardGameGeekAPIRetryError'"
      ]
     },
     "execution_count": 5,
     "metadata": {},
     "output_type": "execute_result"
    }
   ],
   "source": [
    "import os\n",
    "import time\n",
    "import random\n",
    "import pprint\n",
    "import import_ipynb\n",
    "import pandas as pnd\n",
    "import BggDbGetter as BDG\n",
    "from langdetect import detect\n",
    "from tqdm.notebook import tqdm\n",
    "from boardgamegeek import BGGClient\n",
    "\"\"\"from boardgamegeek import BoardGameGeek\n",
    "from boardgamegeek import api\n",
    "from boardgamegeek.exceptions import BoardGameGeekAPIError\n",
    "from boardgamegeek.exceptions import BoardGameGeekAPIRetryError\"\"\""
   ]
  },
  {
   "cell_type": "code",
   "execution_count": 2,
   "id": "electric-process",
   "metadata": {},
   "outputs": [],
   "source": [
    "class BggDbScraper:\n",
    "    def __init__(self):\n",
    "        self._csv = \"BGG_latest.csv\"\n",
    "        self._bgg = BGGClient()\n",
    "        self._errors = []\n",
    "    def db_scrape(self, date=\"2021-02-21\", timeframe_start=2000, timeframe_end=2020, to_be_sampled=False, sampling_rate=1, final_name=\"BGG_sampled.csv\"):\n",
    "        if BDG.BggDbGetter().db_write(date):\n",
    "            #BGG_latest.csv Dataframe reading and eventual sampling\n",
    "            df = pnd.read_csv(\"BGG_latest.csv\")\n",
    "            df = df.loc[df[\"Year\"].isin(range(timeframe_start, timeframe_end))]\n",
    "            if to_be_sampled:\n",
    "                df = df.sample(frac=sampling_rate).reset_index(drop=True)\n",
    "            self.df = df\n",
    "            return self\n",
    "            \"\"\"g = self._bgg.game(name=None, game_id=df.iloc[0][\"ID\"], comments=True)\n",
    "            \n",
    "            cols = list(g.__dict__[\"_data\"])\n",
    "            new_df = pnd.DataFrame(columns = [\"boardgame_rank\"] + cols)\n",
    "            new_df = new_df.drop([\"thumbnail\", \"image\", \"expansion\", \"implementations\", \"expansions\", \"expands\",\\\n",
    "                                  \"alternative_names\", \"trading\", \"wanting\", \"wishing\", \"median\", \"numcomments\"], axis=1)            \n",
    "            for row in tqdm(list(df.iterrows())):\n",
    "                row_id = row[1][\"ID\"]\n",
    "                new_row = {}\n",
    "                try:\n",
    "                    g = self._bgg.game(name=None, game_id=row_id)\n",
    "                    new_row[\"boardgame_rank\"] = g.__dict__[\"boardgame_rank\"]\n",
    "                    for k, v in g.__dict__[\"_data\"].items():\n",
    "                        if k == \"id\":\n",
    "                            new_row[k] = int(v)\n",
    "                        else:\n",
    "                            if k in new_df.columns:\n",
    "                                new_row[k] = v                            \n",
    "                    new_df = new_df.append(new_row, ignore_index=True)\n",
    "                except (BoardGameGeekAPIError, BoardGameGeekAPIRetryError) as e:\n",
    "                    time.sleep(0.5)\n",
    "                    print(\"Error on ID: {0}\".format(row_id))\n",
    "                    self._errors.append(row_id)\n",
    "                    while len(self._errors) > 0:\n",
    "                        err = self._errors.pop(0)\n",
    "                        try:\n",
    "                            g = self._bgg.game(name=None, game_id=err)\n",
    "                            new_row[\"boardgame_rank\"] = g.__dict__[\"boardgame_rank\"]\n",
    "                            for k, v in g.__dict__[\"_data\"].items():\n",
    "                                if k == \"id\":\n",
    "                                    new_row[k] = int(v)\n",
    "                                else:\n",
    "                                    if k in new_df.columns:\n",
    "                                        new_row[k] = v \n",
    "                            new_df = new_df.append(new_row, ignore_index=True)\n",
    "                        except (BoardGameGeekAPIError, BoardGameGeekAPIRetryError) as e2:\n",
    "                            self._errors.append(err)\n",
    "                            pass\n",
    "                    pass\n",
    "                #pp.pprint(new_row)\n",
    "            new_df.drop_duplicates(subset=\"id\", keep=\"first\", inplace=True)\n",
    "            #new_df.drop(columns = [\"Unnamed: 0\", \"Unnamed: 0.1\"])\n",
    "            new_df.to_csv(final_name)\n",
    "            return new_df\n",
    "        else:\n",
    "            raise Exception(\"Error in BGG DB retrieval. Maybe you passed a non-existent date?\")\"\"\""
   ]
  },
  {
   "cell_type": "code",
   "execution_count": 3,
   "id": "abroad-appendix",
   "metadata": {},
   "outputs": [],
   "source": [
    "x = BggDbScraper()\n",
    "x = x.db_scrape()\n",
    "#bgg = BGGClient()"
   ]
  },
  {
   "cell_type": "code",
   "execution_count": 34,
   "id": "forward-exhibit",
   "metadata": {},
   "outputs": [],
   "source": [
    "x.df.iloc[1][0], x.df.iloc[1][1]\n",
    "\n",
    "comments = x._bgg.game(game_id=x.df.iloc[1][0], comments=True)"
   ]
  },
  {
   "cell_type": "code",
   "execution_count": 52,
   "id": "funded-ireland",
   "metadata": {},
   "outputs": [
    {
     "data": {
      "text/plain": [
       "['_expansions',\n",
       " '_expansions_set',\n",
       " '_expands',\n",
       " '_expands_set',\n",
       " '_videos',\n",
       " '_videos_ids',\n",
       " '_comments',\n",
       " '_player_suggestion',\n",
       " '_thumbnail',\n",
       " '_image',\n",
       " '_stats',\n",
       " '_versions',\n",
       " '_versions_set',\n",
       " '_year_published',\n",
       " '_id',\n",
       " '_name',\n",
       " '_data']"
      ]
     },
     "execution_count": 52,
     "metadata": {},
     "output_type": "execute_result"
    }
   ],
   "source": [
    "#comments.description\n",
    "[i for i in comments.__dict__.keys()]"
   ]
  },
  {
   "cell_type": "code",
   "execution_count": 63,
   "id": "modified-frame",
   "metadata": {},
   "outputs": [
    {
     "data": {
      "text/plain": [
       "{'usersrated': 41600,\n",
       " 'average': 8.61255,\n",
       " 'bayesaverage': 8.46252,\n",
       " 'stddev': 1.57002,\n",
       " 'median': 0.0,\n",
       " 'owned': 65219,\n",
       " 'trading': 289,\n",
       " 'wanting': 850,\n",
       " 'wishing': 10888,\n",
       " 'numcomments': 6405,\n",
       " 'numweights': 1139,\n",
       " 'averageweight': 2.8402,\n",
       " 'ranks': [{'id': '1',\n",
       "   'name': 'boardgame',\n",
       "   'friendlyname': 'Board Game Rank',\n",
       "   'value': 2},\n",
       "  {'id': '5496',\n",
       "   'name': 'thematic',\n",
       "   'friendlyname': 'Thematic Rank',\n",
       "   'value': 2},\n",
       "  {'id': '5497',\n",
       "   'name': 'strategygames',\n",
       "   'friendlyname': 'Strategy Game Rank',\n",
       "   'value': 2}]}"
      ]
     },
     "execution_count": 63,
     "metadata": {},
     "output_type": "execute_result"
    }
   ],
   "source": [
    "comments._stats._data#_dict__"
   ]
  },
  {
   "cell_type": "code",
   "execution_count": null,
   "id": "close-prime",
   "metadata": {},
   "outputs": [
    {
     "name": "stdout",
     "output_type": "stream",
     "text": [
      "174430\n",
      "Pandemic Legacy: Season 1\n",
      "Brass: Birmingham\n",
      "167791\n",
      "Twilight Imperium: Fourth Edition\n",
      "Through the Ages: A New Story of Civilization\n",
      "220308\n",
      "Star Wars: Rebellion\n",
      "12333\n",
      "Great Western Trail\n",
      "War of the Ring: Second Edition\n",
      "162886\n",
      "Scythe\n",
      "84876\n",
      "120677\n",
      "173346\n",
      "124361\n",
      "Brass: Lancashire\n",
      "266192\n",
      "177736\n",
      "Arkham Horror: The Card Game\n"
     ]
    }
   ],
   "source": [
    "for index in range(len(x.df)):\n",
    "    try:\n",
    "        print(x._bgg.game(x.df.iloc[index][1]).id)\n",
    "    except:\n",
    "        print(x.df.iloc[index][1])"
   ]
  },
  {
   "cell_type": "code",
   "execution_count": 4,
   "id": "royal-senator",
   "metadata": {},
   "outputs": [],
   "source": [
    "g = bgg.game(\"Carcassonne\")"
   ]
  },
  {
   "cell_type": "code",
   "execution_count": 5,
   "id": "incorrect-romance",
   "metadata": {},
   "outputs": [
    {
     "data": {
      "text/plain": [
       "149208"
      ]
     },
     "execution_count": 5,
     "metadata": {},
     "output_type": "execute_result"
    }
   ],
   "source": [
    "g.users_owned"
   ]
  },
  {
   "cell_type": "code",
   "execution_count": 6,
   "id": "appointed-piece",
   "metadata": {},
   "outputs": [
    {
     "data": {
      "text/plain": [
       "{'_search_api_url': 'https://www.boardgamegeek.com/xmlapi2/search',\n",
       " '_thing_api_url': 'https://www.boardgamegeek.com/xmlapi2/thing',\n",
       " '_guild_api_url': 'https://www.boardgamegeek.com/xmlapi2/guild',\n",
       " '_user_api_url': 'https://www.boardgamegeek.com/xmlapi2/user',\n",
       " '_plays_api_url': 'https://www.boardgamegeek.com/xmlapi2/plays',\n",
       " '_hot_api_url': 'https://www.boardgamegeek.com/xmlapi2/hot',\n",
       " '_collection_api_url': 'https://www.boardgamegeek.com/xmlapi2/collection',\n",
       " '_timeout': 15.0,\n",
       " '_retries': 3,\n",
       " '_retry_delay': 5.0,\n",
       " 'requests_session': <CachedSession(BaseCache('cache', ...), expire_after=1:00:00, allowable_methods=('GET',))>}"
      ]
     },
     "execution_count": 6,
     "metadata": {},
     "output_type": "execute_result"
    }
   ],
   "source": [
    "bgg.__dict__"
   ]
  },
  {
   "cell_type": "code",
   "execution_count": null,
   "id": "ethical-requirement",
   "metadata": {},
   "outputs": [],
   "source": []
  }
 ],
 "metadata": {
  "kernelspec": {
   "display_name": "Python 3",
   "language": "python",
   "name": "python3"
  },
  "language_info": {
   "codemirror_mode": {
    "name": "ipython",
    "version": 3
   },
   "file_extension": ".py",
   "mimetype": "text/x-python",
   "name": "python",
   "nbconvert_exporter": "python",
   "pygments_lexer": "ipython3",
   "version": "3.8.5"
  }
 },
 "nbformat": 4,
 "nbformat_minor": 5
}
