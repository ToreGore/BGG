{
 "cells": [
  {
   "cell_type": "code",
   "execution_count": 1,
   "id": "lesser-exclusive",
   "metadata": {},
   "outputs": [],
   "source": [
    "import matplotlib\n",
    "import boardgamegeek as bgg\n",
    "import os\n",
    "import requests\n",
    "import pandas as pnd\n",
    "\"\"\"Retrieval of BGG DB\n",
    "A specific date can be given, else gets always the csv from 2020/05/03\"\"\"\n",
    "class BggDbGetter:\n",
    "    def __init__(self):\n",
    "        self._github_link = \"https://raw.githubusercontent.com/beefsack/bgg-ranking-historicals/master/\"\n",
    "    def db_write(self, date = \"2021-02-21\"):\n",
    "        git_link = self._github_link + date + \".csv\"\n",
    "        response = requests.get(git_link)\n",
    "        with open(os.path.join(\".\", \"BGG_latest.csv\"), \"wb\") as f:\n",
    "            f.write(response.content)\n",
    "        return True"
   ]
  },
  {
   "cell_type": "code",
   "execution_count": 2,
   "id": "working-service",
   "metadata": {},
   "outputs": [
    {
     "data": {
      "text/plain": [
       "True"
      ]
     },
     "execution_count": 2,
     "metadata": {},
     "output_type": "execute_result"
    }
   ],
   "source": [
    "BggDbGetter().db_write()"
   ]
  },
  {
   "cell_type": "code",
   "execution_count": null,
   "id": "talented-discharge",
   "metadata": {},
   "outputs": [],
   "source": []
  }
 ],
 "metadata": {
  "kernelspec": {
   "display_name": "Python 3",
   "language": "python",
   "name": "python3"
  },
  "language_info": {
   "codemirror_mode": {
    "name": "ipython",
    "version": 3
   },
   "file_extension": ".py",
   "mimetype": "text/x-python",
   "name": "python",
   "nbconvert_exporter": "python",
   "pygments_lexer": "ipython3",
   "version": "3.8.5"
  }
 },
 "nbformat": 4,
 "nbformat_minor": 5
}
